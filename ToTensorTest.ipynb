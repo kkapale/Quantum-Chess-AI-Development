{
 "cells": [
  {
   "cell_type": "code",
   "execution_count": 43,
   "id": "65271ec6-556d-4346-ba1e-3d33fb3e42b6",
   "metadata": {},
   "outputs": [],
   "source": [
    "from QuantumChessGame import * \n",
    "from ChessPuzzles import *\n",
    "from GameToTensor import *\n",
    "\n",
    "#import torch\n",
    "import time\n",
    "\n",
    "import numpy as np\n",
    "import pandas as pd "
   ]
  },
  {
   "cell_type": "code",
   "execution_count": 61,
   "id": "6c8555b3-9b7e-4b70-af8d-f7f8def907bc",
   "metadata": {},
   "outputs": [
    {
     "name": "stdout",
     "output_type": "stream",
     "text": [
      " +-------------------------------------------------+\n",
      "8|   .    50:k   .     .     .     .     .     .   |\n",
      "7|  50:k 100:P   .     .     .     .     .     .   |\n",
      "6| 100:P   .   100:N   .     .     .     .     .   |\n",
      "5|   .     .     .     .     .     .     .     .   |\n",
      "4|   .     .     .     .     .     .     .     .   |\n",
      "3|   .     .     .     .     .     .     .     .   |\n",
      "2|   .     .     .     .     .     .     .   100:K |\n",
      "1|   .     .     .     .     .     .     .     .   |\n",
      " +-------------------------------------------------+\n",
      "     a     b     c     d     e     f     g     h\n",
      " +-------------------------------------------------+\n",
      "8|   .     .     .     .     .     .     .     .   |\n",
      "7| 100:k 100:P   .     .     .     .     .     .   |\n",
      "6| 100:P   .     .     .     .     .     .     .   |\n",
      "5|   .     .     .     .     .     .     .     .   |\n",
      "4|   .     .     .     .     .     .     .     .   |\n",
      "3|   .     .     .     .     .     .     .     .   |\n",
      "2|   .     .     .     .     .     .     .   100:K |\n",
      "1|   .     .     .     .     .     .     .     .   |\n",
      " +-------------------------------------------------+\n",
      "     a     b     c     d     e     f     g     h\n",
      " +-------------------------------------------------+\n",
      "8|   .    50:k   .     .     .     .     .     .   |\n",
      "7|  50:k 100:P   .     .     .     .     .     .   |\n",
      "6| 100:P   .   100:N   .     .     .     .     .   |\n",
      "5|   .     .     .     .     .     .     .     .   |\n",
      "4|   .     .     .     .     .     .     .     .   |\n",
      "3|   .     .     .     .     .     .     .     .   |\n",
      "2|   .     .     .     .     .     .     .   100:K |\n",
      "1|   .     .     .     .     .     .     .     .   |\n",
      " +-------------------------------------------------+\n",
      "     a     b     c     d     e     f     g     h\n",
      " +-------------------------------------------------+\n",
      "8|   .     .     .     .     .     .     .     .   |\n",
      "7| 100:k 100:P   .     .     .     .     .     .   |\n",
      "6| 100:P   .     .     .     .     .     .     .   |\n",
      "5|   .     .     .     .     .     .     .     .   |\n",
      "4|   .     .     .     .     .     .     .     .   |\n",
      "3|   .     .     .     .     .     .     .     .   |\n",
      "2|   .     .     .     .     .     .     .   100:K |\n",
      "1|   .     .     .     .     .     .     .     .   |\n",
      " +-------------------------------------------------+\n",
      "     a     b     c     d     e     f     g     h\n"
     ]
    }
   ],
   "source": [
    "game = QuantumChessGame()\n",
    "game.new_game()\n",
    "game.new_game({'initial_state_fen':get_puzzle_fen(34),  'max_split_moves':[1,1]})\n",
    "gameData = game.get_game_data()\n",
    "\n",
    "game.do_move(\"a8^a7b8\")\n",
    "\n",
    "game1 = game.__copy__() \n",
    "game2 = game.__copy__()\n",
    "\n",
    "def doMoves(game3):\n",
    "\n",
    "    game3.print_board_and_probabilities()\n",
    "\n",
    "    \n",
    "    game3.do_move(\"c6a7\")\n",
    "    game3.do_move(\"b8a7\")\n",
    "\n",
    "    game3.print_board_and_probabilities()\n",
    "\n",
    "\n",
    "doMoves(game1)\n",
    "doMoves(game2)  # repeat to see the effect of the second move"
   ]
  },
  {
   "cell_type": "code",
   "execution_count": null,
   "id": "4eb05ab3-de7b-4598-9354-9b920c9bfff6",
   "metadata": {},
   "outputs": [],
   "source": []
  }
 ],
 "metadata": {
  "kernelspec": {
   "display_name": ".venv",
   "language": "python",
   "name": "python3"
  },
  "language_info": {
   "codemirror_mode": {
    "name": "ipython",
    "version": 3
   },
   "file_extension": ".py",
   "mimetype": "text/x-python",
   "name": "python",
   "nbconvert_exporter": "python",
   "pygments_lexer": "ipython3",
   "version": "3.12.10"
  }
 },
 "nbformat": 4,
 "nbformat_minor": 5
}
